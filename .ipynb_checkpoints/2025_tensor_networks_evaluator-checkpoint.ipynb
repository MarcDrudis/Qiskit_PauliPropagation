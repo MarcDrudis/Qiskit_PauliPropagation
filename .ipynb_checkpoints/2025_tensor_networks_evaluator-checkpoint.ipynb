{
 "cells": [
  {
   "cell_type": "markdown",
   "id": "d2563ca4-1341-474f-a945-6038609c9f15",
   "metadata": {},
   "source": [
    "# Evaluating energies with Matrix Product States\n",
    "\n",
    "In this How-to we exemplify the Matrix Product State Evaluator.\n",
    "Specifically, we show how the parameter entering an MPS affect the energy estimate."
   ]
  },
  {
   "cell_type": "markdown",
   "id": "d59ee8c9",
   "metadata": {},
   "source": [
    "## Introduction to Matrix Product States"
   ]
  },
  {
   "cell_type": "markdown",
   "id": "9d2d8d3f",
   "metadata": {},
   "source": [
    "Given a circuit $U(\\theta)$ defined on $N_q$ qubits and acting on the zero state $\\vert 0 \\rangle^{\\otimes N_q}$, the MPS approximation of this circuit is given as:\n",
    "\n",
    "$$\n",
    "    U(\\theta) \\vert 0 \\rangle^{\\otimes N_q} \\approx U_\\text{MPS}(\\theta) \\vert 0 \\rangle^{\\otimes N_q} \n",
    "        = \\sum_{\\sigma_1,\\ldots,\\sigma_{N_1}} \\sum_{m_1,\\ldots,m_{N_q-1}} \n",
    "          M_{1,m_1}^{\\sigma_1} M_{m_1,m_2}^{\\sigma_2} \\cdots M_{m_{N_q-1},1}^{\\sigma_{N_q}}\n",
    "          \\vert \\sigma_1 \\cdots \\sigma_{N_q} \\rangle\n",
    "$$\n",
    "\n",
    "In the following we refer to the tensors $M_{m_{i-1}, m_i}^{\\sigma_i}$ as \"MPS tensors\".\n",
    "The maximum value of the $m_i$ are often referred to a \"bond dimensions\" (usually \"bond dimension\" is used to indicate the maximum value of $m_i$ over all possible $i$ values).\n",
    "\n",
    "The MPS representation of a given circuit can be obtained by successively including the gates defining $U(\\theta)$ into the $\\vert 0 \\rangle^{\\otimes N_q}$ state.\n",
    "Each time a two-qubit gate is applied, the MPS structure is lost, but can be retrieved by appropriately applying a singular value decomposition (SVD).\n",
    "Each SVD truncation step can be approximated by either selecting a maximum allowed value for the bond dimension, or by selecting a threshold below which the singular values are neglected.\n",
    "Both approaches introduce an approximation.\n",
    "However, it is known that for circuits with a low-rank structure, a rather tight truncation threshold can be applied without compromising accuracy."
   ]
  },
  {
   "cell_type": "markdown",
   "id": "a6f8afc0",
   "metadata": {},
   "source": [
    "## Implementation details"
   ]
  },
  {
   "cell_type": "markdown",
   "id": "fc9d0bca",
   "metadata": {},
   "source": [
    "MPS simulation can be run through the `MPSEvaluator' object, which is implemented in the current library, and can be loaded as shown above."
   ]
  },
  {
   "cell_type": "code",
   "execution_count": 6,
   "id": "57e362c6-237a-4529-a7fb-8f35b6c9687a",
   "metadata": {},
   "outputs": [],
   "source": [
    "import matplotlib.pyplot as plt\n",
    "import time\n",
    "\n",
    "from qiskit.quantum_info import SparsePauliOp\n",
    "\n",
    "from qaoa_training_pipeline.evaluation import MPSEvaluator, EfficientDepthOneEvaluator\n",
    "from qaoa_training_pipeline.utils.graph_utils import load_graph\n",
    "from qaoa_training_pipeline.utils.graph_utils import graph_to_operator"
   ]
  },
  {
   "cell_type": "markdown",
   "id": "7da85cba",
   "metadata": {},
   "source": [
    "We now generate a large, 125-node QAOA problem, which we use later to showcase the functionalities of the MPS simulator."
   ]
  },
  {
   "cell_type": "code",
   "execution_count": 7,
   "id": "2fbfa452-802e-4224-822c-9bc307ba5f54",
   "metadata": {},
   "outputs": [],
   "source": [
    "graph_file = \"000000_40nodes_minus_plus_weighted.json\"\n",
    "graph = load_graph(graph_file)\n",
    "\n",
    "cost_op = graph_to_operator(graph, pre_factor=-0.5)"
   ]
  },
  {
   "cell_type": "markdown",
   "id": "06a7860d-ea1f-4593-8721-67424db50a96",
   "metadata": {},
   "source": [
    "### Depth-one QAOA\n",
    "\n",
    "First, we perform a depth-one QAOA computation. We obtain the reference energy with the `EfficientDepthOneEvaluator' method, which is specialized for depth-one circuits."
   ]
  },
  {
   "cell_type": "code",
   "execution_count": 8,
   "id": "d88e08c3-2490-43af-8508-f92d724f1bac",
   "metadata": {},
   "outputs": [],
   "source": [
    "start = time.time()\n",
    "baseline = EfficientDepthOneEvaluator().evaluate(cost_op, [1, 2])\n",
    "time_efficient_depth_one = time.time() - start"
   ]
  },
  {
   "cell_type": "markdown",
   "id": "8f7d31ff",
   "metadata": {},
   "source": [
    "We now evaluate the cost function with the MPS-based simulator.\n",
    "\n",
    "Note that: \n",
    " \n",
    "  - we run two versions of the MPS simulator, one based on the so--called canonical gauge (described [here](https://www.sciencedirect.com/science/article/pii/S0003491610001752)), and one based on the so--called inverse Vidal gauge (described [here](https://journals.aps.org/prb/abstract/10.1103/PhysRevB.101.235123)). As shown in the timing analysis, the second one is preferred because it is faster.\n",
    "\n",
    "  - for both gauges, we run the simulator by increasing the maximum allowed bond dimension. As shown later, the higher the bond dimension, the higher the computational cost but, at the same time, the accuracy increases as well."
   ]
  },
  {
   "cell_type": "code",
   "execution_count": 17,
   "id": "fdb78430-80ee-49a3-b20a-c084d696a6e5",
   "metadata": {},
   "outputs": [
    {
     "name": "stdout",
     "output_type": "stream",
     "text": [
      "Bond dimension 2\n",
      "Bond dimension 4\n",
      "Bond dimension 8\n",
      "Bond dimension 16\n",
      "Bond dimension 32\n",
      "Bond dimension 64\n"
     ]
    }
   ],
   "source": [
    "times_vidal, times_non_vidal = [], []\n",
    "energy_maps_vidal, energy_maps_non_vidal = [], []\n",
    "\n",
    "bond_dimension = [2, 4, 8, 16, 32, 64]\n",
    " \n",
    "truncation_threshold = 1.0e-10\n",
    "\n",
    "for bd in bond_dimension:\n",
    "    print(\"Bond dimension\", bd)\n",
    "    \n",
    "    # Vidal form\n",
    "    start = time.time()\n",
    "    energy_maps_vidal.append(\n",
    "        MPSEvaluator(\n",
    "            bond_dim_circuit=bd, threshold_circuit=truncation_threshold, use_vidal_form=True, use_swap_strategy=True\n",
    "        ).evaluate(cost_op, [1, 2])\n",
    "    )\n",
    "    times_vidal.append(time.time() - start)\n",
    "    \n",
    "    # Canonical form\n",
    "    start = time.time()\n",
    "    energy_maps_non_vidal.append(\n",
    "        MPSEvaluator(\n",
    "            bond_dim_circuit=bd, threshold_circuit=truncation_threshold, use_vidal_form=False, use_swap_strategy=True\n",
    "        ).evaluate(cost_op, [1, 2])\n",
    "    )\n",
    "    times_non_vidal.append(time.time() - start)"
   ]
  },
  {
   "cell_type": "markdown",
   "id": "5b9e9b11-f136-40ed-a4ce-b11108316219",
   "metadata": {},
   "source": [
    "**Code for Marc**\n",
    "\n",
    "1. Prepare a QAOA circuit in H, Rz, and Rzz gates\n",
    "2. Place holder for Pauli Propagation code"
   ]
  },
  {
   "cell_type": "code",
   "execution_count": 11,
   "id": "8a4addbe-5d5a-4376-90e6-9c33e744c763",
   "metadata": {},
   "outputs": [],
   "source": [
    "from qiskit.circuit.library import QAOAAnsatz\n",
    "from qiskit import transpile"
   ]
  },
  {
   "cell_type": "code",
   "execution_count": 14,
   "id": "95010739-ee08-4b81-8a22-7f9bbdc9cdbf",
   "metadata": {},
   "outputs": [],
   "source": [
    "circuit = transpile(QAOAAnsatz(cost_op), basis_gates=[\"h\", \"rz\", \"rx\", \"rzz\"])  # @Marc adapt basis gates to your needs\n",
    "circuit.assign_parameters([1, 2], inplace=True)"
   ]
  },
  {
   "cell_type": "code",
   "execution_count": null,
   "id": "b5daad41-ffb1-46c5-8afa-298f2d32e7b0",
   "metadata": {},
   "outputs": [],
   "source": [
    "# @Marc complete the code below\n",
    "\n",
    "# import pauli propagation stuff\n",
    "\n",
    "qunatities_that_control_runtime_and_quality = []  # TODO\n",
    "times_pp, energy_pp = [], []\n",
    "\n",
    "for value in qunatities_that_control_runtime_and_quality:\n",
    "    pass\n",
    "\n",
    "    # start = time.time()\n",
    "    # energy = pp_method(circuit)\n",
    "    # times_pp.append(...)\n",
    "    # energy_pp.append(time.time() - start)\n",
    "\n",
    "# Marc: please add the values to the plots below."
   ]
  },
  {
   "cell_type": "markdown",
   "id": "d413358e",
   "metadata": {},
   "source": [
    "We now plot the results"
   ]
  },
  {
   "cell_type": "code",
   "execution_count": 18,
   "id": "15e19ebf-dbb0-428d-a044-abdd547f3fc4",
   "metadata": {},
   "outputs": [
    {
     "data": {
      "text/plain": [
       "Text(0, 0.5, 'Wall clock time (sec)')"
      ]
     },
     "execution_count": 18,
     "metadata": {},
     "output_type": "execute_result"
    },
    {
     "data": {
      "image/png": "[encoded data removed]",
      "text/plain": [
       "<Figure size 1200x400 with 2 Axes>"
      ]
     },
     "metadata": {},
     "output_type": "display_data"
    }
   ],
   "source": [
    "fig, axs = plt.subplots(1, 2, figsize=(12, 4))\n",
    "\n",
    "# Plot of the energy convergence\n",
    "axs[0].plot(bond_dimension, energy_maps_vidal, label=\"Vidal\")\n",
    "axs[0].plot(bond_dimension, energy_maps_non_vidal, label=\"Canonical\")\n",
    "axs[0].hlines(baseline, bond_dimension[0], bond_dimension[-1], \"k\", label=\"Ref.\")\n",
    "axs[0].legend()\n",
    "axs[0].set_xlabel(\"Max. bond dimension\")\n",
    "axs[0].set_ylabel(\"Energy\")\n",
    "\n",
    "# Plot of the overall runtime\n",
    "axs[1].plot(bond_dimension, times_vidal, label=\"Vidal\")\n",
    "axs[1].plot(bond_dimension, times_non_vidal, label=\"Canonical\")\n",
    "axs[1].plot(bond_dimension, times_vidal, \"ok\")\n",
    "axs[1].plot(bond_dimension, times_non_vidal, \"ok\")\n",
    "axs[1].hlines(time_efficient_depth_one, bond_dimension[0], bond_dimension[-1], \"k\", label=\"Ref.\")\n",
    "axs[1].legend()\n",
    "axs[1].set_xlabel(\"Max. bond dimension\")\n",
    "axs[1].set_ylabel(\"Wall clock time (sec)\")"
   ]
  },
  {
   "cell_type": "markdown",
   "id": "6878c6bc",
   "metadata": {},
   "source": [
    "As expected, by increasing the bond dimension, the accuracy of the energy estimates becomes increasingly more accurate.\n",
    "\n",
    "Moreover, as anticipated, the Vidal-based implementation is ~ 10x faster than the Canonical one.\n",
    "\n",
    "Both simulations are slower than the one ran with the `EfficientDepthOne` method. This is not surprising because MPS simulators have a larger overhead due to the creation of the relevant data structure etc.\n",
    "This overhead is, however, constant and becomes negligible for larger simulations."
   ]
  }
 ],
 "metadata": {
  "kernelspec": {
   "display_name": "Python 3 (ipykernel)",
   "language": "python",
   "name": "python3"
  },
  "language_info": {
   "codemirror_mode": {
    "name": "ipython",
    "version": 3
   },
   "file_extension": ".py",
   "mimetype": "text/x-python",
   "name": "python",
   "nbconvert_exporter": "python",
   "pygments_lexer": "ipython3",
   "version": "3.11.5"
  }
 },
 "nbformat": 4,
 "nbformat_minor": 5
}
